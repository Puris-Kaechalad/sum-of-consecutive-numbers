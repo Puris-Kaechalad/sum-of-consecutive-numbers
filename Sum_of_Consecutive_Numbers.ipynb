{
  "nbformat": 4,
  "nbformat_minor": 0,
  "metadata": {
    "colab": {
      "provenance": [],
      "authorship_tag": "ABX9TyMDVInGr/WKRF6nH5NdvBUm",
      "include_colab_link": true
    },
    "kernelspec": {
      "name": "python3",
      "display_name": "Python 3"
    },
    "language_info": {
      "name": "python"
    }
  },
  "cells": [
    {
      "cell_type": "markdown",
      "metadata": {
        "id": "view-in-github",
        "colab_type": "text"
      },
      "source": [
        "<a href=\"https://colab.research.google.com/github/Puris-Kaechalad/Sum-of-Consecutive-Numbers/blob/main/Sum_of_Consecutive_Numbers.ipynb\" target=\"_parent\"><img src=\"https://colab.research.google.com/assets/colab-badge.svg\" alt=\"Open In Colab\"/></a>"
      ]
    },
    {
      "cell_type": "markdown",
      "source": [
        "**Take a number N as input and output the sum of all numbers from 1 to N (including N).**\n",
        "\n",
        "    Ex. The sum of all numbers from 1 to 100 is equal to 5050.\n",
        "\n",
        "\n"
      ],
      "metadata": {
        "id": "KonwF1IGWCSa"
      }
    },
    {
      "cell_type": "code",
      "execution_count": 2,
      "metadata": {
        "id": "wNr69NRzPmuQ",
        "colab": {
          "base_uri": "https://localhost:8080/"
        },
        "outputId": "a807b027-f071-437d-9440-03ecd346edd6"
      },
      "outputs": [
        {
          "output_type": "stream",
          "name": "stdout",
          "text": [
            "100\n",
            "5050\n"
          ]
        }
      ],
      "source": [
        "N = int(input()) \n",
        "sum = ((1 + N) * N) / 2 #calculate (The answer may not be an integer.)\n",
        "sum = int(sum) #change data type to an integer \n",
        "print(sum)"
      ]
    },
    {
      "cell_type": "markdown",
      "source": [
        "Thanks for the question from Sololearn ✌\n",
        " \n",
        "  -Python for Beginners course.\n",
        "\n"
      ],
      "metadata": {
        "id": "R_x8eM2matxy"
      }
    }
  ]
}